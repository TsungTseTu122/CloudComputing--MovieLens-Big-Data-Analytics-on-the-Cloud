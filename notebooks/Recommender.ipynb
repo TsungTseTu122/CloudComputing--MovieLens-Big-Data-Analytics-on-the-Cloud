{
 "cells": [
  {
   "cell_type": "markdown",
   "metadata": {},
   "source": [
    "# Collaborative Filtering Recommender\n",
    "\n",
    "This notebook demonstrates how to train the `src.recommendation` ALS pipeline on a small sample and how to query for user recommendations."
   ]
  },
  {
   "cell_type": "code",
   "execution_count": null,
   "metadata": {},
   "outputs": [],
   "source": [
    "from pyspark.sql import SparkSession\n",
    "from src import recommendation\n",
    "\n",
    "spark = SparkSession.builder.master(\"local[*]\").appName(\"movielens-demo\").getOrCreate()"
   ]
  },
  {
   "cell_type": "code",
   "execution_count": null,
   "metadata": {},
   "outputs": [],
   "source": [
    "ratings = spark.createDataFrame([\n",
    "    (\"1\", \"10\", 4.0, 1000),\n",
    "    (\"1\", \"20\", 3.5, 1001),\n",
    "    (\"2\", \"10\", 4.5, 1002),\n",
    "    (\"2\", \"30\", 4.0, 1003),\n",
    "    (\"3\", \"20\", 2.5, 1004),\n",
    "    (\"3\", \"30\", 4.0, 1005),\n",
    "], [\"userId\", \"movieId\", \"rating\", \"timestamp\"])\n",
    "\n",
    "movies = spark.createDataFrame([\n",
    "    (\"10\", \"The First Movie\", \"Adventure\"),\n",
    "    (\"20\", \"The Second Movie\", \"Comedy\"),\n",
    "    (\"30\", \"The Third Movie\", \"Drama\"),\n",
    "], [\"movieId\", \"title\", \"genres\"])\n",
    "\n",
    "training = recommendation.train_model(ratings, rank=4, reg_param=0.05, max_iter=6)\n",
    "training.metrics"
   ]
  },
  {
   "cell_type": "code",
   "execution_count": null,
   "metadata": {},
   "outputs": [],
   "source": [
    "recs = recommendation.recommend_for_user(training, \"1\", top_n=3, movies=movies)\n",
    "recs.orderBy(\"score\", ascending=False).toPandas()"
   ]
  },
  {
   "cell_type": "markdown",
   "metadata": {},
   "source": [
    "When running inside the Docker cluster, point `load_ratings` to the HDFS CSV paths, or execute the CLI command:\n",
    "\n",
    "```bash\n",
    "python -m src.recommendation --user-id 123 --top-n 10\n",
    "```"
   ]
  }
 ],
 "metadata": {
  "kernelspec": {
   "display_name": "Python 3",
   "language": "python",
   "name": "python3"
  },
  "language_info": {
   "name": "python",
   "pygments_lexer": "ipython3"
  }
 },
 "nbformat": 4,
 "nbformat_minor": 5
}
